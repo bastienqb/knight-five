{
 "cells": [
  {
   "cell_type": "markdown",
   "metadata": {},
   "source": [
    "# Introduction to the game API"
   ]
  },
  {
   "cell_type": "code",
   "execution_count": 4,
   "metadata": {},
   "outputs": [
    {
     "name": "stdout",
     "output_type": "stream",
     "text": [
      "The autoreload extension is already loaded. To reload it, use:\n",
      "  %reload_ext autoreload\n"
     ]
    }
   ],
   "source": [
    "%load_ext autoreload\n",
    "%autoreload 2"
   ]
  },
  {
   "cell_type": "code",
   "execution_count": 5,
   "metadata": {},
   "outputs": [],
   "source": [
    "import numpy as np\n",
    "from game import EXAMPLE_BOARD, Game"
   ]
  },
  {
   "cell_type": "code",
   "execution_count": 6,
   "metadata": {},
   "outputs": [
    {
     "data": {
      "text/plain": [
       "BoardGame(board=array([[11., 10., 11., 14.],\n",
       "       [ 8.,  6.,  9.,  9.],\n",
       "       [10.,  4.,  3.,  1.],\n",
       "       [ 7.,  6.,  5.,  0.]]), goal=(0, 3), start=(3, 0))"
      ]
     },
     "execution_count": 6,
     "metadata": {},
     "output_type": "execute_result"
    }
   ],
   "source": [
    "EXAMPLE_BOARD"
   ]
  },
  {
   "cell_type": "markdown",
   "metadata": {},
   "source": [
    "## Run the README.md example"
   ]
  },
  {
   "cell_type": "code",
   "execution_count": 9,
   "metadata": {},
   "outputs": [
    {
     "name": "stdout",
     "output_type": "stream",
     "text": [
      "[[11.   7.5 11.  15. ]\n",
      " [ 8.   6.   9.   9. ]\n",
      " [ 7.5  4.   3.   1. ]\n",
      " [ 6.   6.   7.5  0. ]]\n"
     ]
    }
   ],
   "source": [
    "game = Game(board=EXAMPLE_BOARD.board, goal=EXAMPLE_BOARD.goal, start=EXAMPLE_BOARD.start)\n",
    "game.initialize()\n",
    "\n",
    "steps = [\n",
    "    None, # a0\n",
    "    (-2, 1, 0), # jum\n",
    "    (0, -1, 2),\n",
    "    (1, 0, 2),\n",
    "    (-2, 1, 0),\n",
    "    None,\n",
    "    None,\n",
    "    None,\n",
    "    None,\n",
    "    None,\n",
    "    (2, -1, 0),\n",
    "]\n",
    "\n",
    "for s in steps:\n",
    "    game.step(action=s)\n",
    "\n",
    "print(game._board)"
   ]
  },
  {
   "cell_type": "markdown",
   "metadata": {},
   "source": [
    "## Run a game loop"
   ]
  },
  {
   "cell_type": "code",
   "execution_count": 2,
   "metadata": {},
   "outputs": [
    {
     "ename": "AttributeError",
     "evalue": "'Game' object has no attribute 'get_all_actions'",
     "output_type": "error",
     "traceback": [
      "\u001b[0;31m---------------------------------------------------------------------------\u001b[0m",
      "\u001b[0;31mAttributeError\u001b[0m                            Traceback (most recent call last)",
      "\u001b[1;32m/Users/bastien/jane-street-puzzles/nov-2023/notebooks/intro.ipynb Cell 5\u001b[0m line \u001b[0;36m4\n\u001b[1;32m      <a href='vscode-notebook-cell:/Users/bastien/jane-street-puzzles/nov-2023/notebooks/intro.ipynb#W6sZmlsZQ%3D%3D?line=0'>1</a>\u001b[0m game \u001b[39m=\u001b[39m Game(board\u001b[39m=\u001b[39mEXAMPLE_BOARD\u001b[39m.\u001b[39mboard, goal\u001b[39m=\u001b[39mEXAMPLE_BOARD\u001b[39m.\u001b[39mgoal, start\u001b[39m=\u001b[39mEXAMPLE_BOARD\u001b[39m.\u001b[39mstart)\n\u001b[1;32m      <a href='vscode-notebook-cell:/Users/bastien/jane-street-puzzles/nov-2023/notebooks/intro.ipynb#W6sZmlsZQ%3D%3D?line=1'>2</a>\u001b[0m game\u001b[39m.\u001b[39minitialize()\n\u001b[0;32m----> <a href='vscode-notebook-cell:/Users/bastien/jane-street-puzzles/nov-2023/notebooks/intro.ipynb#W6sZmlsZQ%3D%3D?line=3'>4</a>\u001b[0m ALL_ACTIONS \u001b[39m=\u001b[39m game\u001b[39m.\u001b[39;49mget_all_actions()\n\u001b[1;32m      <a href='vscode-notebook-cell:/Users/bastien/jane-street-puzzles/nov-2023/notebooks/intro.ipynb#W6sZmlsZQ%3D%3D?line=5'>6</a>\u001b[0m \u001b[39m# while game.is_on or game.get_valid_actions():\u001b[39;00m\n\u001b[1;32m      <a href='vscode-notebook-cell:/Users/bastien/jane-street-puzzles/nov-2023/notebooks/intro.ipynb#W6sZmlsZQ%3D%3D?line=6'>7</a>\u001b[0m \u001b[39m#     action = \u001b[39;00m\n\u001b[1;32m      <a href='vscode-notebook-cell:/Users/bastien/jane-street-puzzles/nov-2023/notebooks/intro.ipynb#W6sZmlsZQ%3D%3D?line=7'>8</a>\u001b[0m \u001b[39m#     game.step(action=action)\u001b[39;00m\n\u001b[1;32m      <a href='vscode-notebook-cell:/Users/bastien/jane-street-puzzles/nov-2023/notebooks/intro.ipynb#W6sZmlsZQ%3D%3D?line=8'>9</a>\u001b[0m \n\u001b[1;32m     <a href='vscode-notebook-cell:/Users/bastien/jane-street-puzzles/nov-2023/notebooks/intro.ipynb#W6sZmlsZQ%3D%3D?line=9'>10</a>\u001b[0m \u001b[39m# print(f\"game is\")\u001b[39;00m\n",
      "\u001b[0;31mAttributeError\u001b[0m: 'Game' object has no attribute 'get_all_actions'"
     ]
    }
   ],
   "source": [
    "game = Game(board=EXAMPLE_BOARD.board, goal=EXAMPLE_BOARD.goal, start=EXAMPLE_BOARD.start)\n",
    "game.initialize()\n",
    "\n",
    "ALL_ACTIONS = game.get_all_actions()\n",
    "\n",
    "# while game.is_on or game.get_valid_actions():\n",
    "#     action = \n",
    "#     game.step(action=action)\n",
    "\n",
    "# print(f\"game is\")"
   ]
  }
 ],
 "metadata": {
  "kernelspec": {
   "display_name": "js-nov-2023",
   "language": "python",
   "name": "python3"
  },
  "language_info": {
   "codemirror_mode": {
    "name": "ipython",
    "version": 3
   },
   "file_extension": ".py",
   "mimetype": "text/x-python",
   "name": "python",
   "nbconvert_exporter": "python",
   "pygments_lexer": "ipython3",
   "version": "3.10.13"
  }
 },
 "nbformat": 4,
 "nbformat_minor": 2
}
