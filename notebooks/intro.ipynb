{
 "cells": [
  {
   "cell_type": "markdown",
   "metadata": {},
   "source": [
    "# Introduction to the game API"
   ]
  },
  {
   "cell_type": "code",
   "execution_count": 1,
   "metadata": {},
   "outputs": [],
   "source": [
    "%load_ext autoreload\n",
    "%autoreload 2"
   ]
  },
  {
   "cell_type": "code",
   "execution_count": 2,
   "metadata": {},
   "outputs": [],
   "source": [
    "import numpy as np\n",
    "from knight_five.game import EXAMPLE_BOARD, Game"
   ]
  },
  {
   "cell_type": "markdown",
   "metadata": {},
   "source": [
    "## Run the README.md example"
   ]
  },
  {
   "cell_type": "code",
   "execution_count": 11,
   "metadata": {},
   "outputs": [],
   "source": [
    "import logging\n",
    "logger = logging.getLogger(\"game.game\")\n",
    "logger.setLevel(logging.DEBUG)"
   ]
  },
  {
   "cell_type": "code",
   "execution_count": 18,
   "metadata": {},
   "outputs": [
    {
     "name": "stdout",
     "output_type": "stream",
     "text": [
      "[[11. 14. 11. 15.]\n",
      " [ 8.  6.  9. 10.]\n",
      " [-2.  4.  3.  1.]\n",
      " [ 6.  6. -2.  0.]]\n"
     ]
    }
   ],
   "source": [
    "game = Game(\n",
    "    board=EXAMPLE_BOARD.board,\n",
    "    goal=EXAMPLE_BOARD.goal,\n",
    "    start=EXAMPLE_BOARD.start\n",
    ")\n",
    "game.initialize()\n",
    "\n",
    "steps = [\n",
    "    None, # a0\n",
    "    (-2, 1, 0), # b3\n",
    "    (0, -1, 2), # a3\n",
    "    (1, 0, 2), # a2\n",
    "    (-2, 1, 0), # b4\n",
    "    None,\n",
    "    None,\n",
    "    None,\n",
    "    None,\n",
    "    None,\n",
    "    (2, -1, 0), # a2\n",
    "    None,\n",
    "    None,\n",
    "    None,\n",
    "    (1, 2, 0), # c1\n",
    "    None,\n",
    "    None,\n",
    "    (-1, -2, 0), # a2\n",
    "    (1, 2, 0), # c1\n",
    "    None, None, None, None, None, None, None, None, None, None, None, None, None, None, None,\n",
    "    (0, 1, 2), # d1\n",
    "    None,\n",
    "    (-1, 0, 2)\n",
    "]\n",
    "\n",
    "for s in steps:\n",
    "    _ = game.get_valid_actions(game.king_pos)\n",
    "    game.step(action=s)\n",
    "\n",
    "print(game._board)"
   ]
  },
  {
   "cell_type": "markdown",
   "metadata": {},
   "source": [
    "## Run a game loop with random agent"
   ]
  },
  {
   "cell_type": "code",
   "execution_count": 25,
   "metadata": {},
   "outputs": [
    {
     "name": "stdout",
     "output_type": "stream",
     "text": [
      "(0,a3)\n",
      "(0,b3)\n",
      "(0,b2)\n",
      "(0,b3)\n",
      "(0,b2)\n",
      "(0,b3)\n",
      "(2,c1)\n",
      "(3,b3)\n",
      "(0,c1)\n",
      "(1,b3)\n",
      "(2,c1)\n",
      "(0,b3)\n",
      "(1,c1)\n",
      "(2,d1)\n",
      "(0,d1)\n",
      "game is over\n",
      "king reaches goal: False\n",
      "king is blocked: True\n",
      "time is 11\n",
      "(3, 3)\n",
      "[[11. 12. 11. 14.]\n",
      " [ 8.  2.  9.  9.]\n",
      " [10.  4.  5.  1.]\n",
      " [ 7.  2.  2.  0.]]\n",
      "[[0. 0. 0. 0.]\n",
      " [0. 3. 0. 0.]\n",
      " [0. 0. 0. 0.]\n",
      " [0. 0. 3. 0.]]\n"
     ]
    }
   ],
   "source": [
    "import random\n",
    "# random.seed(42)\n",
    "\n",
    "MAX_TIME = 200\n",
    "\n",
    "game = Game(board=EXAMPLE_BOARD.board, goal=EXAMPLE_BOARD.goal, start=EXAMPLE_BOARD.start)\n",
    "game.initialize()\n",
    "T = 0\n",
    "ALL_ACTIONS = game.get_all_actions()\n",
    "\n",
    "t = 0\n",
    "while game.is_on and T < MAX_TIME:\n",
    "    possible_actions = game.get_valid_actions(game.king_pos)\n",
    "    if not possible_actions:\n",
    "        break\n",
    "    action_idx = random.choice(possible_actions)\n",
    "\n",
    "    action = ALL_ACTIONS[action_idx]\n",
    "    game.step(action=action)\n",
    "    if action is None:\n",
    "        T += 1\n",
    "        t += 1\n",
    "    else:\n",
    "        print(f\"({t},{game.excel_pos(pos=game.king_pos)})\")\n",
    "        t = 0\n",
    "\n",
    "print(f\"({t},{game.excel_pos(pos=game.king_pos)})\")\n",
    "\n",
    "print(\"game is over\")\n",
    "print(f\"king reaches goal: {not game.is_on}\")\n",
    "print(f\"king is blocked: {len(possible_actions) == 0}\")\n",
    "print(f\"time is {T}\")\n",
    "print(game.king_pos)\n",
    "print(game._board)\n",
    "print(game._freq)"
   ]
  },
  {
   "cell_type": "markdown",
   "metadata": {},
   "source": [
    "## Reinforcement learning"
   ]
  },
  {
   "cell_type": "markdown",
   "metadata": {},
   "source": []
  }
 ],
 "metadata": {
  "kernelspec": {
   "display_name": "js-nov-2023",
   "language": "python",
   "name": "python3"
  },
  "language_info": {
   "codemirror_mode": {
    "name": "ipython",
    "version": 3
   },
   "file_extension": ".py",
   "mimetype": "text/x-python",
   "name": "python",
   "nbconvert_exporter": "python",
   "pygments_lexer": "ipython3",
   "version": "3.10.13"
  }
 },
 "nbformat": 4,
 "nbformat_minor": 2
}
